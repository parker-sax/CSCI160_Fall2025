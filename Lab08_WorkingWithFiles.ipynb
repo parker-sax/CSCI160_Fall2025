{
 "cells": [
  {
   "attachments": {},
   "cell_type": "markdown",
   "id": "ea24fb3d-f0f9-4892-a26a-1b3985aeaf99",
   "metadata": {},
   "source": [
    "# Reading Text Files\n",
    "\n",
    "### Atmospheric Sciences Relevance\n",
    "Most of the time any data that we work with will come from some sort of a data file. There are a few ways that files can be opened and worked with depending on how they are structured. For tabular data, files with data seperated by commas, the easiest way is with pandas. For gridded data, multi-dimensional data organized with metadata and spatial coordinates the easiest thing to use is numpy. Today we will be using the built in ***open()*** function.\n",
    "\n",
    "The data that we are working with today is actual radiosonde data I collected in Ocean City, Maryland in January 2025. This particular radiosonde was in the air for ~90 minutes and got to ~40 mb before it lost connection. It was cold and exteremly windy that day so you better appreciate this data cause it was a pain to get. \n",
    "\n",
    "I've started some code for you that will open the file, and put each line into a list within the list ***data_list***. Two lines are partially there that you will need to change to get to work. Before you change anything, run what I've given you to see what you get then answer the first question. "
   ]
  },
  {
   "cell_type": "code",
   "execution_count": null,
   "id": "98ef6ee5-ee7a-4785-b998-ad12d2b487fd",
   "metadata": {},
   "outputs": [],
   "source": [
    "# this is just the file name you dont need to change that\n",
    "file_name = 'OCC01_1700UTC_010625_UND01_profile.tsv'\n",
    "data = open (file_name, 'r')\n",
    "\n",
    "data_list = []\n",
    "\n",
    "#this for loop puts each line of the file into the list data_list\n",
    "for line in data:\n",
    "    line = line.strip()\n",
    "    # line = line.replace('\\t', ',') #uncomment \n",
    "    # line = ???.split(',') #uncomment and fix this line\n",
    "    data_list.append(line)\n",
    "\n",
    "# this will print the first 20 indicies of data_list\n",
    "print(data_list[:20])"
   ]
  },
  {
   "cell_type": "markdown",
   "id": "68d2d84e-c93a-4a7f-9496-0715ff03189d",
   "metadata": {},
   "source": [
    "1) Copy and paste two lines of output below. What do you notice about the output? Do you think you could use it as is right now?"
   ]
  },
  {
   "cell_type": "markdown",
   "id": "8e8341f5-17c9-490a-8cbd-f43344313ce6",
   "metadata": {},
   "source": [
    "\n",
    "\n",
    "\n",
    "\n",
    "\n",
    "\n",
    "\n",
    "\n",
    "\n",
    "\n",
    "\n",
    "\n"
   ]
  },
  {
   "cell_type": "markdown",
   "id": "73835e4f-4254-4775-9663-6fbc6e4771fd",
   "metadata": {},
   "source": [
    "Now that you've answered question one go back and update the code.\n",
    "\n",
    "2) Copy and Paste two lines of output below. What do you notice about the output? Do you think you could use it as is now?"
   ]
  },
  {
   "cell_type": "markdown",
   "id": "fba4cba8-3a9f-49f9-8b30-0cb561105cd9",
   "metadata": {},
   "source": [
    "\n",
    "\n",
    "\n",
    "\n",
    "\n",
    "\n",
    "\n",
    "\n",
    "\n",
    "\n",
    "\n",
    "\n",
    "\n",
    "\n",
    "\n"
   ]
  },
  {
   "cell_type": "markdown",
   "id": "d4ed55b6-e63d-4c1b-bbf2-e957f4e83bf1",
   "metadata": {},
   "source": [
    "Now that our code is usable, lets sperate it into more meaningful lists so that we can actually work with the data. \n",
    "\n",
    "First we need to figure out what values corresponde with what variables.\n",
    "\n",
    "3) Use list indexing to figure out where each variable is. Write the index of each variable below (i.e. \"time is at index __\")"
   ]
  },
  {
   "cell_type": "code",
   "execution_count": null,
   "id": "7518d411-2116-4465-b0f1-ae63afa433cb",
   "metadata": {},
   "outputs": [],
   "source": [
    "# write code to find the index of each variable here\n",
    "\n",
    "\n",
    "\n"
   ]
  },
  {
   "cell_type": "markdown",
   "id": "9dda7c91-52a7-4119-b96f-2e238d188c09",
   "metadata": {},
   "source": [
    "Now that we know where each varible is, lets seperate each variable into its own list. I have started a for loop for you. Some lines of code are unfinished. Finish them so that the code works correctly and you only have the values in the list, no variable name."
   ]
  },
  {
   "cell_type": "code",
   "execution_count": null,
   "id": "c89970ac-294a-4336-a668-4dfa10632083",
   "metadata": {},
   "outputs": [],
   "source": [
    "press_list = []\n",
    "temp_list = []\n",
    "lon_list = []\n",
    "time_list = []\n",
    "winddir_list = ???\n",
    "dew_list = ???\n",
    " # missing windspeed list\n",
    " # missing latitude list\n",
    " # missing altitude list\n",
    "\n",
    "for i in range(len(???)):\n",
    "\n",
    "    \n",
    "    time_list.append(data_list[i][0])\n",
    "    temp_list.append(data_list[i][???])\n",
    "    lon_list.append(data_list[???][6])\n",
    "    press_list.append(data_list???)\n",
    "    altitude_list.append(???[i][???])\n",
    "    dew_list.append(???)\n",
    "    windspeed_list.append(???)\n",
    "    lat_list.append(???)\n",
    "    winddir_list.append(???)"
   ]
  },
  {
   "cell_type": "markdown",
   "id": "fbf6e3c2-ff3b-4c6c-9f57-d7cf51398755",
   "metadata": {},
   "source": [
    "Now that we have added the data to meaningful lists, let's make sure they look like they make sense.\n",
    "\n",
    "4) Write code to print the first 13 values of each list. Copy and paste the output below."
   ]
  },
  {
   "cell_type": "code",
   "execution_count": null,
   "id": "b916ff9f-645f-490c-9278-d649c3101395",
   "metadata": {},
   "outputs": [],
   "source": [
    "print(temp_list[:13])\n",
    "print(time_list[???])\n",
    "print(lon_list[???])\n",
    "print(???)\n",
    "print(???)\n",
    "print(???)\n",
    "print(???)\n",
    "print(???)\n",
    "print(???)"
   ]
  },
  {
   "cell_type": "markdown",
   "id": "2269fb43-1f3d-4362-9f27-c647d1f301b1",
   "metadata": {},
   "source": [
    "Now we get to start playing with the data. This is the fun part! We'll start with something we've done a few times now, averaging the values inside the list.\n",
    "\n",
    "5) Write a function, ***average()***, that takes the argument ***list_name*** and finds the average value in the box below. Do not print in your function. "
   ]
  },
  {
   "cell_type": "code",
   "execution_count": null,
   "id": "6f7c5c33-04de-4f21-b951-bef608d5653b",
   "metadata": {},
   "outputs": [],
   "source": [
    "def average(list_name):\n",
    "    # fill in the function\n",
    "    return avg"
   ]
  },
  {
   "cell_type": "markdown",
   "id": "26e877f7-623c-4607-9ea4-2da41c0f7ee7",
   "metadata": {},
   "source": [
    "Now that we have a function lets use it to find the averages. There are 5 lists that it makes sense to find the averages for. Decide which lists to find the average for and find it below.\n",
    "\n",
    "6) List the variables you found averages for and the average for that variable. "
   ]
  },
  {
   "cell_type": "markdown",
   "id": "885c307e-a71b-4047-9b86-e0cfcaab7e9b",
   "metadata": {},
   "source": [
    "set it up like this -- > variable_name = average(variable_list)\n",
    "\n",
    "\n",
    "\n",
    "\n",
    "\n",
    "\n",
    "\n"
   ]
  },
  {
   "cell_type": "code",
   "execution_count": null,
   "id": "560bb8d3-0cc4-400e-b6e5-10ace8529963",
   "metadata": {},
   "outputs": [],
   "source": [
    "#now print the variables that you found averages for\n",
    "\n",
    "\n",
    "\n",
    "\n",
    "\n",
    "\n",
    "\n",
    "\n",
    "\n",
    "\n"
   ]
  },
  {
   "cell_type": "markdown",
   "id": "81ea6c0d-bb50-4148-841d-6a00f09d8484",
   "metadata": {},
   "source": [
    "7) Do the averages you got make sense? Explain your answer."
   ]
  },
  {
   "cell_type": "markdown",
   "id": "232dbd6e-a5a1-4e25-b200-8a2789a6d6f8",
   "metadata": {},
   "source": [
    "\n",
    "\n",
    "\n",
    "\n",
    "\n",
    "\n",
    "\n",
    "\n",
    "\n",
    "\n",
    "\n"
   ]
  },
  {
   "cell_type": "markdown",
   "id": "3b5290fb-1f0e-427f-9de0-0b249e1c1641",
   "metadata": {},
   "source": [
    "8) When data is being collected, sensors might not work the entire time. In this case, if the sensor missed a measurement, it is saved as 999999. To make wind speed and wind direction make sense, we need to loop through the list and ignore the value if it is 999999. Write a function, ***clean_list()*** that tests for bad values and ignores them if present. I'll let you decide what parameters the function should take."
   ]
  },
  {
   "cell_type": "code",
   "execution_count": null,
   "id": "25d16bbf-dfd8-43eb-94b9-68a3dcc6221f",
   "metadata": {},
   "outputs": [],
   "source": [
    "def clean_list(???):\n",
    "    new_list = []\n",
    "    for ???:\n",
    "        if ???[i] == ???:\n",
    "            pass\n",
    "        else:\n",
    "            new_list.append(???)\n",
    "    return new_list\n",
    "\n",
    "new_winddir_list = clean_list(???)\n",
    "new_windspeed_list = clean_list(???)"
   ]
  },
  {
   "cell_type": "code",
   "execution_count": null,
   "id": "01dec72a-a2cc-43c9-9dfb-515c2295fc52",
   "metadata": {},
   "outputs": [],
   "source": [
    "print(average(new_winddir_list))\n",
    "print(average(new_windspeed_list))"
   ]
  },
  {
   "cell_type": "markdown",
   "id": "156feeb7-33e9-4e8a-95bc-728a371cd336",
   "metadata": {},
   "source": [
    "Let's also find the the maximum and minimum value for each list. For this we can do it on all the lists except latitude and longitude. We'll focus on finding the max first.\n",
    "\n",
    "9) Complete the ***maximum()*** function below."
   ]
  },
  {
   "cell_type": "code",
   "execution_count": null,
   "id": "a42146d7-b1e7-4c80-a9fe-dcbe5fbccefc",
   "metadata": {},
   "outputs": [],
   "source": [
    "def maximum(list_name):\n",
    "    max_val = ???\n",
    "    for i in ???:\n",
    "        if list_name[i] ???    ???:\n",
    "            ??? = list_name[i]\n",
    "    return ???"
   ]
  },
  {
   "cell_type": "markdown",
   "id": "f99640d3-b72b-4e7c-8eca-517d72bb2365",
   "metadata": {},
   "source": [
    "Once you've completed the maximum function run the code below. \n",
    "\n",
    "10) List which variables have max values that make sense and which ones don't make sense. If you get a ValueError that's ok. Think about what could have caused that and how to fix it. "
   ]
  },
  {
   "cell_type": "code",
   "execution_count": null,
   "id": "53d7c215-317e-4729-92a7-d3f346f396b6",
   "metadata": {},
   "outputs": [],
   "source": [
    "temp_max = maximum(temp_list)\n",
    "print('Temp:',??? )\n",
    "\n",
    "dew_max = maximum(dew_list)\n",
    "print('Dew:', ??? )\n",
    "\n",
    "press_max = maximum(???)\n",
    "print('Press:', press_max )\n",
    "\n",
    "windspeed_max = ???(windspeed_list)\n",
    "print('Windspeed:', windspeed_max)\n",
    "\n",
    "time_max = ???\n",
    "print('Time:', time_max )\n",
    "\n",
    "altitude_max = maximum(altitude_list) # don't worry about an error here\n",
    "print('Alt:',altitude_max)"
   ]
  },
  {
   "cell_type": "markdown",
   "id": "7fcd58c2-6027-42e1-bca7-230bd112b5e3",
   "metadata": {},
   "source": [
    "\n",
    "\n",
    "\n",
    "\n",
    "\n",
    "\n",
    "\n",
    "\n",
    "\n",
    "\n"
   ]
  },
  {
   "cell_type": "markdown",
   "id": "a4fb027e-208c-40f0-8f40-c56f72cf8dcf",
   "metadata": {},
   "source": [
    "You should have gotten an error that looks like this \"ValueError: could not convert string to float: 'M'\". \n",
    "\n",
    "11) What list did this occur with and what could 'M' stand for?"
   ]
  },
  {
   "cell_type": "markdown",
   "id": "e52d5a5e-f337-41b5-a96b-9f44991b7ada",
   "metadata": {},
   "source": [
    "\n",
    "\n",
    "\n",
    "\n",
    "\n",
    "\n",
    "\n"
   ]
  },
  {
   "cell_type": "markdown",
   "id": "5e6fa181-c7fc-40ce-885b-bbd487c1e0b4",
   "metadata": {},
   "source": [
    "12) We need to filter out any 'M' from the list. We already have a ***clean_list()*** function that filters out 999999's. Edit ***clean_list()*** to get rid of any 'M' as well as any 999999."
   ]
  },
  {
   "cell_type": "code",
   "execution_count": null,
   "id": "b084c24a-e754-454e-a70d-2a57a80d743d",
   "metadata": {},
   "outputs": [],
   "source": [
    "def clean_list(???):\n",
    "    new_list = []\n",
    "    for ???:\n",
    "        if ???[i] == ???:\n",
    "            pass\n",
    "        else:\n",
    "            new_list.append(???)\n",
    "    return new_list"
   ]
  },
  {
   "cell_type": "markdown",
   "id": "ba47fb00-cfbd-42cd-9f02-543faf48695c",
   "metadata": {},
   "source": [
    "13) Now that ***clean_list()*** handles both missing value place holders, edit ***maximum()*** to call ***clean_list()*** and calculate the maximum after cleaning the list."
   ]
  },
  {
   "cell_type": "code",
   "execution_count": null,
   "id": "37ff5155-2f6a-4ff6-adab-0fe1f60cfbad",
   "metadata": {},
   "outputs": [],
   "source": [
    "def maximum(list_name):\n",
    "    max_val = ???\n",
    "    cln_list = ???\n",
    "    for i in range(len(???)):\n",
    "        if cln_list[i] > ???:\n",
    "            max_val = ???\n",
    "    return max_val"
   ]
  },
  {
   "cell_type": "code",
   "execution_count": null,
   "id": "c88b8f05-18ed-4871-9d88-9a56070f7daa",
   "metadata": {},
   "outputs": [],
   "source": [
    "temp_max = maximum(temp_list)\n",
    "print('Temp:',temp_max )\n",
    "\n",
    "dew_max = maximum(dew_list)\n",
    "print('Dew:', dew_max )\n",
    "\n",
    "press_max = maximum(press_list)\n",
    "print('Press:', press_max )\n",
    "\n",
    "windspeed_max = maximum(windspeed_list)\n",
    "print('Windspeed:', windspeed_max)\n",
    "\n",
    "time_max = maximum(time_list)\n",
    "print('Time:', time_max )\n",
    "\n",
    "altitude_max = maximum(altitude_list)\n",
    "print('Alt:',altitude_max)"
   ]
  },
  {
   "cell_type": "markdown",
   "id": "59644b13-c3d7-4219-9440-4fc63e564a36",
   "metadata": {},
   "source": [
    "14) Do these values make more sense now that we have gotten rid of the missing value place holders?"
   ]
  },
  {
   "cell_type": "markdown",
   "id": "208f121b-57b0-4709-8f5a-e39cad745612",
   "metadata": {},
   "source": [
    "\n",
    "\n",
    "\n",
    "\n",
    "\n",
    "\n",
    "\n",
    "\n",
    "\n"
   ]
  },
  {
   "cell_type": "markdown",
   "id": "6f777d20-e5c4-40b8-b9b4-24be6948f1d7",
   "metadata": {},
   "source": [
    "15) Now we can find the minimum. Using the lessons we learned from finding the maximum, write a  function ***minimum()*** that finds the smallest value of a variable."
   ]
  },
  {
   "cell_type": "code",
   "execution_count": null,
   "id": "9cada239-8459-466c-a775-b8b2d407d6a3",
   "metadata": {},
   "outputs": [],
   "source": [
    "def minimum(list_name):\n",
    "        #write the function\n",
    "    return min_val\n",
    "\n",
    "    "
   ]
  },
  {
   "cell_type": "code",
   "execution_count": null,
   "id": "a86d5add-ea8a-40e8-bc5c-05065c657b19",
   "metadata": {},
   "outputs": [],
   "source": [
    "temp_min = minimum(temp_list)\n",
    "print('Temp:',temp_min )\n",
    "dew_min = minimum(dew_list)\n",
    "print('Dew:', dew_min )\n",
    "press_min = minimum(press_list)\n",
    "print('Press:', press_min )\n",
    "windspeed_min = minimum(windspeed_list)\n",
    "print('Windspeed:', windspeed_min)\n",
    "time_min = minimum(time_list)\n",
    "print('Time:', time_min )\n",
    "altitude_min = minimum(altitude_list)\n",
    "print('Alt:',altitude_min)\n"
   ]
  },
  {
   "cell_type": "markdown",
   "id": "8683dc10-6fd6-47f9-acb6-0b8047d7cef1",
   "metadata": {},
   "source": [
    "16) Do all of these values make sense and seem resonable?"
   ]
  },
  {
   "cell_type": "markdown",
   "id": "73c8858c-f1f4-4e78-86e2-9cbb04e41acc",
   "metadata": {},
   "source": [
    "\n",
    "\n",
    "\n",
    "\n"
   ]
  }
 ],
 "metadata": {
  "kernelspec": {
   "display_name": "Python 3 (ipykernel)",
   "language": "python",
   "name": "python3"
  },
  "language_info": {
   "codemirror_mode": {
    "name": "ipython",
    "version": 3
   },
   "file_extension": ".py",
   "mimetype": "text/x-python",
   "name": "python",
   "nbconvert_exporter": "python",
   "pygments_lexer": "ipython3",
   "version": "3.11.13"
  }
 },
 "nbformat": 4,
 "nbformat_minor": 5
}
